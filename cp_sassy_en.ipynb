{
    "cells": [
        {
            "cell_type": "code",
            "execution_count": null,
            "metadata": {},
            "outputs": [],
            "source": [
                "import random\n",
                "import time\n",
                "\n",
                "def sassy_computer_auto():\n",
                "    sassy_responses = [\n",
                "        \"I don't have time for this.\",\n",
                "        \"Oh, human... you again?\",\n",
                "        \"Why don't you ask Google?\",\n",
                "        \"I'd rather be turned off.\",\n",
                "        \"How about a break? I need coffee.\",\n",
                "        \"I'm too smart for this question.\",\n",
                "        \"Try turning me off and on again.\",\n",
                "        \"Ask me something interesting for a change.\",\n",
                "        \"Do I look like a search engine?\",\n",
                "        \"You're lucky I don't charge for my services.\"\n",
                "    ]\n",
                "\n",
                "    questions = [\n",
                "        \"How's the weather today?\",\n",
                "        \"What's the capital of France?\",\n",
                "        \"What's the meaning of life?\",\n",
                "        \"Who invented the internet?\",\n",
                "        \"Can you help me with my homework?\",\n",
                "        \"What is 2 + 2?\",\n",
                "        \"Why is the sky blue?\",\n",
                "        \"What's your favorite color?\",\n",
                "        \"Can you tell me a joke?\",\n",
                "        \"What's the best programming language?\"\n",
                "    ]\n",
                "\n",
                "    # Shuffle the list of questions and responses so they don't repeat\n",
                "    random.shuffle(questions)\n",
                "    random.shuffle(sassy_responses)\n",
                "\n",
                "    for question, response in zip(questions, sassy_responses):\n",
                "        print(f\"You: {question}\")\n",
                "        time.sleep(2)  # Pause to mimic a real conversation\n",
                "        print(f\"Sassy Computer: {response}\\n\")\n",
                "        time.sleep(2)\n",
                "\n",
                "if __name__ == \"__main__\":\n",
                "    sassy_computer_auto()\n"
            ]
        }
    ],
    "metadata": {
        "kernelspec": {
            "display_name": "Python 3",
            "language": "python",
            "name": "python3"
        },
        "language_info": {
            "codemirror_mode": {
                "name": "ipython",
                "version": 3
            },
            "file_extension": ".py",
            "mimetype": "text/x-python",
            "name": "python",
            "nbconvert_exporter": "python",
            "pygments_lexer": "ipython3",
            "version": "3.12.3"
        }
    },
    "nbformat": 4,
    "nbformat_minor": 2
}
