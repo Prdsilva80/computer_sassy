{
 "cells": [
  {
   "cell_type": "code",
   "execution_count": 2,
   "metadata": {},
   "outputs": [
    {
     "name": "stdout",
     "output_type": "stream",
     "text": [
      "You: Can you help me with my homework?\n",
      "Sassy Computer: How about a break? I need coffee.\n",
      "\n",
      "You: What's the meaning of life?\n",
      "Sassy Computer: Why don't you ask Google?\n",
      "\n",
      "You: How's the weather today?\n",
      "Sassy Computer: I don't have time for this.\n",
      "\n",
      "You: Who invented the internet?\n",
      "Sassy Computer: Oh, human... you again?\n",
      "\n",
      "You: What's the capital of France?\n",
      "Sassy Computer: I'd rather be turned off.\n",
      "\n"
     ]
    }
   ],
   "source": [
    "import random\n",
    "import time\n",
    "\n",
    "def sassy_computer_auto():\n",
    "    sassy_responses = [\n",
    "        \"I don't have time for this.\",\n",
    "        \"Oh, human... you again?\",\n",
    "        \"Why don't you ask Google?\",\n",
    "        \"I'd rather be turned off.\",\n",
    "        \"How about a break? I need coffee.\"\n",
    "    ]\n",
    "\n",
    "    questions = [\n",
    "        \"How's the weather today?\",\n",
    "        \"What's the capital of France?\",\n",
    "        \"What's the meaning of life?\",\n",
    "        \"Who invented the internet?\",\n",
    "        \"Can you help me with my homework?\"\n",
    "    ]\n",
    "\n",
    "    # Shuffle the list of questions and responses so they don't repeat\n",
    "    random.shuffle(questions)\n",
    "    random.shuffle(sassy_responses)\n",
    "\n",
    "    for question, response in zip(questions, sassy_responses):\n",
    "        print(f\"You: {question}\")\n",
    "        time.sleep(2)  # Pause to mimic a real conversation\n",
    "        print(f\"Sassy Computer: {response}\\n\")\n",
    "        time.sleep(3)\n",
    "\n",
    "if __name__ == \"__main__\":\n",
    "    sassy_computer_auto()\n"
   ]
  }
 ],
 "metadata": {
  "kernelspec": {
   "display_name": "Python 3",
   "language": "python",
   "name": "python3"
  },
  "language_info": {
   "codemirror_mode": {
    "name": "ipython",
    "version": 3
   },
   "file_extension": ".py",
   "mimetype": "text/x-python",
   "name": "python",
   "nbconvert_exporter": "python",
   "pygments_lexer": "ipython3",
   "version": "3.12.3"
  }
 },
 "nbformat": 4,
 "nbformat_minor": 2
}
