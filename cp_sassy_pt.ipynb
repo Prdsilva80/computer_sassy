{
 "cells": [
  {
   "cell_type": "code",
   "execution_count": 3,
   "metadata": {},
   "outputs": [
    {
     "name": "stdout",
     "output_type": "stream",
     "text": [
      "Você: Quem inventou a internet?\n",
      "Computador Sassy: Ah, humano... você de novo?\n",
      "\n",
      "Você: Qual é a capital da França?\n",
      "Computador Sassy: Que tal um intervalo? Eu preciso de café.\n",
      "\n",
      "Você: Qual é a melhor linguagem de programação?\n",
      "Computador Sassy: Eu sou muito inteligente para essa pergunta.\n",
      "\n",
      "Você: Você pode me contar uma piada?\n",
      "Computador Sassy: Você tem sorte que eu não cobro pelos meus serviços.\n",
      "\n",
      "Você: Como está o tempo hoje?\n",
      "Computador Sassy: Por que você não pergunta ao Google?\n",
      "\n",
      "Você: Quanto é 2 + 2?\n",
      "Computador Sassy: Eu não tenho tempo para isso.\n",
      "\n",
      "Você: Qual é o sentido da vida?\n",
      "Computador Sassy: Eu pareço um motor de busca?\n",
      "\n",
      "Você: Você pode me ajudar com minha lição de casa?\n",
      "Computador Sassy: Me pergunte algo interessante para variar.\n",
      "\n",
      "Você: Por que o céu é azul?\n",
      "Computador Sassy: Eu preferiria estar desligado.\n",
      "\n",
      "Você: Qual é a sua cor favorita?\n",
      "Computador Sassy: Tente me desligar e ligar novamente.\n",
      "\n"
     ]
    }
   ],
   "source": [
    "import random\n",
    "import time\n",
    "\n",
    "def computador_sassy_automatico():\n",
    "    respostas_sassy = [\n",
    "        \"Eu não tenho tempo para isso.\",\n",
    "        \"Ah, humano... você de novo?\",\n",
    "        \"Por que você não pergunta ao Google?\",\n",
    "        \"Eu preferiria estar desligado.\",\n",
    "        \"Que tal um intervalo? Eu preciso de café.\"\n",
    "    ]\n",
    "\n",
    "    perguntas = [\n",
    "        \"Como está o tempo hoje?\",\n",
    "        \"Qual é a capital da França?\",\n",
    "        \"Qual é o sentido da vida?\",\n",
    "        \"Quem inventou a internet?\",\n",
    "        \"Você pode me ajudar com minha lição de casa?\"\n",
    "    ]\n",
    "\n",
    "    # Embaralha a lista de perguntas e respostas para que não repitam\n",
    "    random.shuffle(perguntas)\n",
    "    random.shuffle(respostas_sassy)\n",
    "\n",
    "    for pergunta, resposta in zip(perguntas, respostas_sassy):\n",
    "        print(f\"Você: {pergunta}\")\n",
    "        time.sleep(2)  # Pausa para imitar uma conversa real\n",
    "        print(f\"Computador Sassy: {resposta}\\n\")\n",
    "        time.sleep(3)\n",
    "\n",
    "if __name__ == \"__main__\":\n",
    "    computador_sassy_automatico()\n"
   ]
  }
 ],
 "metadata": {
  "kernelspec": {
   "display_name": "Python 3",
   "language": "python",
   "name": "python3"
  },
  "language_info": {
   "codemirror_mode": {
    "name": "ipython",
    "version": 3
   },
   "file_extension": ".py",
   "mimetype": "text/x-python",
   "name": "python",
   "nbconvert_exporter": "python",
   "pygments_lexer": "ipython3",
   "version": "3.12.3"
  }
 },
 "nbformat": 4,
 "nbformat_minor": 2
}
